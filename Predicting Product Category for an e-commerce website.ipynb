{
 "cells": [
  {
   "cell_type": "markdown",
   "metadata": {},
   "source": [
    "## Importing the necessary libraries"
   ]
  },
  {
   "cell_type": "code",
   "execution_count": 1,
   "metadata": {},
   "outputs": [],
   "source": [
    "import pandas as pd\n",
    "import seaborn as sns\n",
    "import matplotlib.pyplot as plt\n",
    "from sklearn.model_selection import train_test_split\n",
    "from sklearn.feature_extraction.text import CountVectorizer\n",
    "from sklearn.naive_bayes import MultinomialNB\n",
    "from sklearn.metrics import classification_report\n",
    "from sklearn.preprocessing import LabelEncoder"
   ]
  },
  {
   "cell_type": "markdown",
   "metadata": {},
   "source": [
    "## Reading the data"
   ]
  },
  {
   "cell_type": "code",
   "execution_count": 2,
   "metadata": {},
   "outputs": [],
   "source": [
    "# Reading the data from the excel sheet and storing it in a pandas DataFrame\n",
    "\n",
    "data = pd.read_excel(\"ecommerce.xlsx\")"
   ]
  },
  {
   "cell_type": "code",
   "execution_count": 3,
   "metadata": {},
   "outputs": [
    {
     "data": {
      "text/html": [
       "<div>\n",
       "<style scoped>\n",
       "    .dataframe tbody tr th:only-of-type {\n",
       "        vertical-align: middle;\n",
       "    }\n",
       "\n",
       "    .dataframe tbody tr th {\n",
       "        vertical-align: top;\n",
       "    }\n",
       "\n",
       "    .dataframe thead th {\n",
       "        text-align: right;\n",
       "    }\n",
       "</style>\n",
       "<table border=\"1\" class=\"dataframe\">\n",
       "  <thead>\n",
       "    <tr style=\"text-align: right;\">\n",
       "      <th></th>\n",
       "      <th>uniq_id</th>\n",
       "      <th>crawl_timestamp</th>\n",
       "      <th>product_url</th>\n",
       "      <th>product_name</th>\n",
       "      <th>product_category_tree</th>\n",
       "      <th>pid</th>\n",
       "      <th>retail_price</th>\n",
       "      <th>discounted_price</th>\n",
       "      <th>image</th>\n",
       "      <th>is_FK_Advantage_product</th>\n",
       "      <th>description</th>\n",
       "      <th>product_rating</th>\n",
       "      <th>overall_rating</th>\n",
       "      <th>brand</th>\n",
       "      <th>product_specifications</th>\n",
       "    </tr>\n",
       "  </thead>\n",
       "  <tbody>\n",
       "    <tr>\n",
       "      <td>0</td>\n",
       "      <td>c2d766ca982eca8304150849735ffef9</td>\n",
       "      <td>2016-03-25 22:59:23 +0000</td>\n",
       "      <td>http://www.flipkart.com/alisha-solid-women-s-c...</td>\n",
       "      <td>Alisha Solid Women's Cycling Shorts</td>\n",
       "      <td>[\"Clothing &gt;&gt; Women's Clothing &gt;&gt; Lingerie, Sl...</td>\n",
       "      <td>SRTEH2FF9KEDEFGF</td>\n",
       "      <td>999.0</td>\n",
       "      <td>379.0</td>\n",
       "      <td>[\"http://img5a.flixcart.com/image/short/u/4/a/...</td>\n",
       "      <td>False</td>\n",
       "      <td>Key Features of Alisha Solid Women's Cycling S...</td>\n",
       "      <td>No rating available</td>\n",
       "      <td>No rating available</td>\n",
       "      <td>Alisha</td>\n",
       "      <td>{\"product_specification\"=&gt;[{\"key\"=&gt;\"Number of ...</td>\n",
       "    </tr>\n",
       "    <tr>\n",
       "      <td>1</td>\n",
       "      <td>7f7036a6d550aaa89d34c77bd39a5e48</td>\n",
       "      <td>2016-03-25 22:59:23 +0000</td>\n",
       "      <td>http://www.flipkart.com/fabhomedecor-fabric-do...</td>\n",
       "      <td>FabHomeDecor Fabric Double Sofa Bed</td>\n",
       "      <td>[\"Furniture &gt;&gt; Living Room Furniture &gt;&gt; Sofa B...</td>\n",
       "      <td>SBEEH3QGU7MFYJFY</td>\n",
       "      <td>32157.0</td>\n",
       "      <td>22646.0</td>\n",
       "      <td>[\"http://img6a.flixcart.com/image/sofa-bed/j/f...</td>\n",
       "      <td>False</td>\n",
       "      <td>FabHomeDecor Fabric Double Sofa Bed (Finish Co...</td>\n",
       "      <td>No rating available</td>\n",
       "      <td>No rating available</td>\n",
       "      <td>FabHomeDecor</td>\n",
       "      <td>{\"product_specification\"=&gt;[{\"key\"=&gt;\"Installati...</td>\n",
       "    </tr>\n",
       "    <tr>\n",
       "      <td>2</td>\n",
       "      <td>f449ec65dcbc041b6ae5e6a32717d01b</td>\n",
       "      <td>2016-03-25 22:59:23 +0000</td>\n",
       "      <td>http://www.flipkart.com/aw-bellies/p/itmeh4grg...</td>\n",
       "      <td>AW Bellies</td>\n",
       "      <td>[\"Footwear &gt;&gt; Women's Footwear &gt;&gt; Ballerinas &gt;...</td>\n",
       "      <td>SHOEH4GRSUBJGZXE</td>\n",
       "      <td>999.0</td>\n",
       "      <td>499.0</td>\n",
       "      <td>[\"http://img5a.flixcart.com/image/shoe/7/z/z/r...</td>\n",
       "      <td>False</td>\n",
       "      <td>Key Features of AW Bellies Sandals Wedges Heel...</td>\n",
       "      <td>No rating available</td>\n",
       "      <td>No rating available</td>\n",
       "      <td>AW</td>\n",
       "      <td>{\"product_specification\"=&gt;[{\"key\"=&gt;\"Ideal For\"...</td>\n",
       "    </tr>\n",
       "    <tr>\n",
       "      <td>3</td>\n",
       "      <td>0973b37acd0c664e3de26e97e5571454</td>\n",
       "      <td>2016-03-25 22:59:23 +0000</td>\n",
       "      <td>http://www.flipkart.com/alisha-solid-women-s-c...</td>\n",
       "      <td>Alisha Solid Women's Cycling Shorts</td>\n",
       "      <td>[\"Clothing &gt;&gt; Women's Clothing &gt;&gt; Lingerie, Sl...</td>\n",
       "      <td>SRTEH2F6HUZMQ6SJ</td>\n",
       "      <td>699.0</td>\n",
       "      <td>267.0</td>\n",
       "      <td>[\"http://img5a.flixcart.com/image/short/6/2/h/...</td>\n",
       "      <td>False</td>\n",
       "      <td>Key Features of Alisha Solid Women's Cycling S...</td>\n",
       "      <td>No rating available</td>\n",
       "      <td>No rating available</td>\n",
       "      <td>Alisha</td>\n",
       "      <td>{\"product_specification\"=&gt;[{\"key\"=&gt;\"Number of ...</td>\n",
       "    </tr>\n",
       "    <tr>\n",
       "      <td>4</td>\n",
       "      <td>bc940ea42ee6bef5ac7cea3fb5cfbee7</td>\n",
       "      <td>2016-03-25 22:59:23 +0000</td>\n",
       "      <td>http://www.flipkart.com/sicons-all-purpose-arn...</td>\n",
       "      <td>Sicons All Purpose Arnica Dog Shampoo</td>\n",
       "      <td>[\"Pet Supplies &gt;&gt; Grooming &gt;&gt; Skin &amp; Coat Care...</td>\n",
       "      <td>PSOEH3ZYDMSYARJ5</td>\n",
       "      <td>220.0</td>\n",
       "      <td>210.0</td>\n",
       "      <td>[\"http://img5a.flixcart.com/image/pet-shampoo/...</td>\n",
       "      <td>False</td>\n",
       "      <td>Specifications of Sicons All Purpose Arnica Do...</td>\n",
       "      <td>No rating available</td>\n",
       "      <td>No rating available</td>\n",
       "      <td>Sicons</td>\n",
       "      <td>{\"product_specification\"=&gt;[{\"key\"=&gt;\"Pet Type\",...</td>\n",
       "    </tr>\n",
       "  </tbody>\n",
       "</table>\n",
       "</div>"
      ],
      "text/plain": [
       "                            uniq_id            crawl_timestamp  \\\n",
       "0  c2d766ca982eca8304150849735ffef9  2016-03-25 22:59:23 +0000   \n",
       "1  7f7036a6d550aaa89d34c77bd39a5e48  2016-03-25 22:59:23 +0000   \n",
       "2  f449ec65dcbc041b6ae5e6a32717d01b  2016-03-25 22:59:23 +0000   \n",
       "3  0973b37acd0c664e3de26e97e5571454  2016-03-25 22:59:23 +0000   \n",
       "4  bc940ea42ee6bef5ac7cea3fb5cfbee7  2016-03-25 22:59:23 +0000   \n",
       "\n",
       "                                         product_url  \\\n",
       "0  http://www.flipkart.com/alisha-solid-women-s-c...   \n",
       "1  http://www.flipkart.com/fabhomedecor-fabric-do...   \n",
       "2  http://www.flipkart.com/aw-bellies/p/itmeh4grg...   \n",
       "3  http://www.flipkart.com/alisha-solid-women-s-c...   \n",
       "4  http://www.flipkart.com/sicons-all-purpose-arn...   \n",
       "\n",
       "                            product_name  \\\n",
       "0    Alisha Solid Women's Cycling Shorts   \n",
       "1    FabHomeDecor Fabric Double Sofa Bed   \n",
       "2                             AW Bellies   \n",
       "3    Alisha Solid Women's Cycling Shorts   \n",
       "4  Sicons All Purpose Arnica Dog Shampoo   \n",
       "\n",
       "                               product_category_tree               pid  \\\n",
       "0  [\"Clothing >> Women's Clothing >> Lingerie, Sl...  SRTEH2FF9KEDEFGF   \n",
       "1  [\"Furniture >> Living Room Furniture >> Sofa B...  SBEEH3QGU7MFYJFY   \n",
       "2  [\"Footwear >> Women's Footwear >> Ballerinas >...  SHOEH4GRSUBJGZXE   \n",
       "3  [\"Clothing >> Women's Clothing >> Lingerie, Sl...  SRTEH2F6HUZMQ6SJ   \n",
       "4  [\"Pet Supplies >> Grooming >> Skin & Coat Care...  PSOEH3ZYDMSYARJ5   \n",
       "\n",
       "   retail_price  discounted_price  \\\n",
       "0         999.0             379.0   \n",
       "1       32157.0           22646.0   \n",
       "2         999.0             499.0   \n",
       "3         699.0             267.0   \n",
       "4         220.0             210.0   \n",
       "\n",
       "                                               image  is_FK_Advantage_product  \\\n",
       "0  [\"http://img5a.flixcart.com/image/short/u/4/a/...                    False   \n",
       "1  [\"http://img6a.flixcart.com/image/sofa-bed/j/f...                    False   \n",
       "2  [\"http://img5a.flixcart.com/image/shoe/7/z/z/r...                    False   \n",
       "3  [\"http://img5a.flixcart.com/image/short/6/2/h/...                    False   \n",
       "4  [\"http://img5a.flixcart.com/image/pet-shampoo/...                    False   \n",
       "\n",
       "                                         description       product_rating  \\\n",
       "0  Key Features of Alisha Solid Women's Cycling S...  No rating available   \n",
       "1  FabHomeDecor Fabric Double Sofa Bed (Finish Co...  No rating available   \n",
       "2  Key Features of AW Bellies Sandals Wedges Heel...  No rating available   \n",
       "3  Key Features of Alisha Solid Women's Cycling S...  No rating available   \n",
       "4  Specifications of Sicons All Purpose Arnica Do...  No rating available   \n",
       "\n",
       "        overall_rating         brand  \\\n",
       "0  No rating available        Alisha   \n",
       "1  No rating available  FabHomeDecor   \n",
       "2  No rating available            AW   \n",
       "3  No rating available        Alisha   \n",
       "4  No rating available        Sicons   \n",
       "\n",
       "                              product_specifications  \n",
       "0  {\"product_specification\"=>[{\"key\"=>\"Number of ...  \n",
       "1  {\"product_specification\"=>[{\"key\"=>\"Installati...  \n",
       "2  {\"product_specification\"=>[{\"key\"=>\"Ideal For\"...  \n",
       "3  {\"product_specification\"=>[{\"key\"=>\"Number of ...  \n",
       "4  {\"product_specification\"=>[{\"key\"=>\"Pet Type\",...  "
      ]
     },
     "execution_count": 3,
     "metadata": {},
     "output_type": "execute_result"
    }
   ],
   "source": [
    "data.head()\n",
    "\n",
    "# Viewing the first 5 rows"
   ]
  },
  {
   "cell_type": "code",
   "execution_count": 4,
   "metadata": {},
   "outputs": [
    {
     "data": {
      "text/plain": [
       "(20000, 15)"
      ]
     },
     "execution_count": 4,
     "metadata": {},
     "output_type": "execute_result"
    }
   ],
   "source": [
    "data.shape\n",
    "\n",
    "# Looking at the number of rows and columns"
   ]
  },
  {
   "cell_type": "markdown",
   "metadata": {},
   "source": [
    "## Cleaning and preparing the data "
   ]
  },
  {
   "cell_type": "markdown",
   "metadata": {},
   "source": [
    "To visualise the number of missing values in each column, a heatmap is drawn using the seaborn library. The pandas.DataFrame.isnull() method returns an DataFrame of booleans (True if the data in a particular cell is missing and False otherwise). This dataframe is passed as an argument to the seaborn.heatmap() method and a heatmap is generated"
   ]
  },
  {
   "cell_type": "code",
   "execution_count": 5,
   "metadata": {},
   "outputs": [
    {
     "data": {
      "image/png": "[encoded data removed]",
      "text/plain": [
       "<Figure size 720x360 with 1 Axes>"
      ]
     },
     "metadata": {
      "needs_background": "light"
     },
     "output_type": "display_data"
    }
   ],
   "source": [
    "# Visualizing missing values in each column\n",
    "# To visualise the number of missing values in each column, a heatmap is drawn using the seaborn library.\n",
    "\n",
    "plt.figure(figsize = (10,5))\n",
    "\n",
    "sns.heatmap(data.isnull(), cmap = \"cool\", yticklabels = False, cbar = False )\n",
    "\n",
    "plt.show()\n",
    "\n"
   ]
  },
  {
   "cell_type": "markdown",
   "metadata": {},
   "source": [
    " From the above heatmap, we see that the 'brand' feature has a large number of values missing. Rest of the columns are fine"
   ]
  },
  {
   "cell_type": "code",
   "execution_count": 22,
   "metadata": {},
   "outputs": [
    {
     "data": {
      "text/plain": [
       "False    20000\n",
       "dtype: int64"
      ]
     },
     "execution_count": 22,
     "metadata": {},
     "output_type": "execute_result"
    }
   ],
   "source": [
    "# Checking for duplicate data\n",
    "\n",
    "data.duplicated().value_counts()"
   ]
  },
  {
   "cell_type": "markdown",
   "metadata": {},
   "source": [
    "None of the columns have duplicate values"
   ]
  },
  {
   "cell_type": "markdown",
   "metadata": {},
   "source": [
    "The following code separates the primary category. The list 'category' stores the primary categories of all the items. \n",
    "At first, 'category' is declared as an empty list. A for loop iterates over the values in 'product_category_tree' column.\n",
    "The variable 'primary_category' stores the primary category from the product_category_tree column for each row. \n",
    "The inner for loop iterates over the entry of product_category_tree for that particular row. \n",
    "To eliminate non-alphabets, .isalpha() method is used as the condition of the first if statement. The break statement\n",
    "is used to transfer the control of the program out of the inner for loop when the \">\" character is encountered. \n",
    "This is because, in the entries of the product_category_tree column, the primary and secondary categories are separated by \">\". The words before \">\" will be considered as the primary category and will be appended to the list 'category'. \n",
    "Finally, the category list is assigned to the product_category_tree column."
   ]
  },
  {
   "cell_type": "code",
   "execution_count": 7,
   "metadata": {},
   "outputs": [],
   "source": [
    "category = []\n",
    "for element in data.product_category_tree:\n",
    "    primary_category = \"\"\n",
    "    for character in element:\n",
    "        if (character.isalpha()):\n",
    "            primary_category += character\n",
    "        if (character == \">\"):\n",
    "            break\n",
    "    category.append(primary_category)\n",
    "\n",
    "# print(category)  \n",
    "\n",
    "data.product_category_tree = category\n",
    "\n"
   ]
  },
  {
   "cell_type": "markdown",
   "metadata": {},
   "source": [
    "Some categories are very similar and they mean exactly the same thing. For example, 'HomeFurnishing' and 'Furniture' mean the same thing. Hence, they should belong to the same category. The following code assigns the category 'Furniture' to\n",
    "'HomeFurnishing', 'KitchenDining' to 'HomeKitchen', 'BeautyandPersonalCare' to 'HealthPersonalCareAppliances', 'Eyewear' to  'Sunglasses'."
   ]
  },
  {
   "cell_type": "code",
   "execution_count": 8,
   "metadata": {},
   "outputs": [
    {
     "name": "stderr",
     "output_type": "stream",
     "text": [
      "C:\\Users\\Sinjini\\Anaconda3\\lib\\site-packages\\ipykernel_launcher.py:3: SettingWithCopyWarning: \n",
      "A value is trying to be set on a copy of a slice from a DataFrame\n",
      "\n",
      "See the caveats in the documentation: http://pandas.pydata.org/pandas-docs/stable/user_guide/indexing.html#returning-a-view-versus-a-copy\n",
      "  This is separate from the ipykernel package so we can avoid doing imports until\n",
      "C:\\Users\\Sinjini\\Anaconda3\\lib\\site-packages\\ipykernel_launcher.py:9: SettingWithCopyWarning: \n",
      "A value is trying to be set on a copy of a slice from a DataFrame\n",
      "\n",
      "See the caveats in the documentation: http://pandas.pydata.org/pandas-docs/stable/user_guide/indexing.html#returning-a-view-versus-a-copy\n",
      "  if __name__ == '__main__':\n",
      "C:\\Users\\Sinjini\\Anaconda3\\lib\\site-packages\\ipykernel_launcher.py:5: SettingWithCopyWarning: \n",
      "A value is trying to be set on a copy of a slice from a DataFrame\n",
      "\n",
      "See the caveats in the documentation: http://pandas.pydata.org/pandas-docs/stable/user_guide/indexing.html#returning-a-view-versus-a-copy\n",
      "  \"\"\"\n",
      "C:\\Users\\Sinjini\\Anaconda3\\lib\\site-packages\\ipykernel_launcher.py:7: SettingWithCopyWarning: \n",
      "A value is trying to be set on a copy of a slice from a DataFrame\n",
      "\n",
      "See the caveats in the documentation: http://pandas.pydata.org/pandas-docs/stable/user_guide/indexing.html#returning-a-view-versus-a-copy\n",
      "  import sys\n"
     ]
    }
   ],
   "source": [
    "\n",
    "\n",
    "for i in range(len(data.product_category_tree)):\n",
    "    if (data.product_category_tree[i] == \"HomeFurnishing\"):\n",
    "        data.product_category_tree[i] = \"Furniture\"\n",
    "    elif (data.product_category_tree[i] == \"HomeKitchen\"):\n",
    "        data.product_category_tree[i] = \"KitchenDining\"\n",
    "    elif (data.product_category_tree[i] == \"HealthPersonalCareAppliances\"):\n",
    "        data.product_category_tree[i] = \"BeautyandPersonalCare\"\n",
    "    elif (data.product_category_tree[i] == \"Sunglasses\"):\n",
    "        data.product_category_tree[i] = \"Eyewear\"\n",
    "        "
   ]
  },
  {
   "cell_type": "code",
   "execution_count": 9,
   "metadata": {},
   "outputs": [
    {
     "data": {
      "text/plain": [
       "Clothing                 6198\n",
       "Jewellery                3531\n",
       "Footwear                 1227\n",
       "MobilesAccessories       1099\n",
       "Automotive               1012\n",
       "HomeDecorFestiveNeeds     929\n",
       "Furniture                 880\n",
       "BeautyandPersonalCare     753\n",
       "KitchenDining             671\n",
       "Computers                 578\n",
       "Watches                   530\n",
       "BabyCare                  483\n",
       "ToolsHardware             391\n",
       "ToysSchoolSupplies        330\n",
       "PensStationery            313\n",
       "BagsWalletsBelts          265\n",
       "SportsFitness             166\n",
       "CamerasAccessories         82\n",
       "HomeImprovement            81\n",
       "Eyewear                    50\n",
       "Name: product_category_tree, dtype: int64"
      ]
     },
     "execution_count": 9,
     "metadata": {},
     "output_type": "execute_result"
    }
   ],
   "source": [
    "data.product_category_tree.value_counts()[:20]\n",
    "\n",
    "# This gives us the number of sales in the top 20 categories"
   ]
  },
  {
   "cell_type": "code",
   "execution_count": 10,
   "metadata": {},
   "outputs": [
    {
     "data": {
      "image/png": "[encoded data removed]",
      "text/plain": [
       "<Figure size 864x576 with 1 Axes>"
      ]
     },
     "metadata": {
      "needs_background": "light"
     },
     "output_type": "display_data"
    }
   ],
   "source": [
    "# To visualize the number of items sold in each category\n",
    "\n",
    "plt.figure(figsize=(12,8))\n",
    "data.product_category_tree.value_counts()[:20].sort_values(ascending=True).plot(kind='bar')\n",
    "plt.title(\"Sales by Category\",fontsize=20)\n",
    "plt.xlabel(\"Category\", fontsize = 17)\n",
    "plt.ylabel(\"Sales\", fontsize=17)\n",
    "plt.yticks(fontsize=12)\n",
    "plt.xticks(fontsize=12)\n",
    "plt.show()\n"
   ]
  },
  {
   "cell_type": "markdown",
   "metadata": {},
   "source": [
    "#### Considering only the relevant data\n",
    "Only those rows are being considered that belong to the top 20 categories.\n",
    "This is because the rest of the categories are very low in number. The model will not\n",
    "learn anything from the description of those categories, and it might lead to overtraining.\n",
    "Description will be used as the main feature for the model. The following code creates a new dataframe with only the relevant data. \n",
    "\n",
    "'categories_to_consider' is a list that stores the entries from the 'product_category_tree' that belong to the top 20 categories and hence, will be considered. 'df' is the new dataframe with only the relevant data."
   ]
  },
  {
   "cell_type": "code",
   "execution_count": 11,
   "metadata": {},
   "outputs": [],
   "source": [
    "\n",
    "categories_to_consider = list(data.groupby('product_category_tree').count().sort_values(by='uniq_id',ascending=False).head(20).index)\n",
    "\n",
    "df = data[data.product_category_tree.isin(categories_to_consider)]\n",
    "df = df[['product_category_tree', 'description']]"
   ]
  },
  {
   "cell_type": "markdown",
   "metadata": {},
   "source": [
    "encoder is an object of LabelEncoder class. When the fit_transform method of the encoder object is invoked with the target variable as argument, it returns the encoded values; which is then assigned to the original column in the DataFrame."
   ]
  },
  {
   "cell_type": "code",
   "execution_count": 12,
   "metadata": {},
   "outputs": [],
   "source": [
    "# Encoding the data\n",
    "# The LabelEncoder assigns a unique numerical value to each category. \n",
    "\n",
    "encoder = LabelEncoder()\n",
    "\n",
    "encoded_categories = encoder.fit_transform(df['product_category_tree'])\n",
    "\n",
    "df['product_category_tree'] = encoded_categories"
   ]
  },
  {
   "cell_type": "code",
   "execution_count": 13,
   "metadata": {},
   "outputs": [
    {
     "data": {
      "text/plain": [
       "(19569, 2)"
      ]
     },
     "execution_count": 13,
     "metadata": {},
     "output_type": "execute_result"
    }
   ],
   "source": [
    "df.shape\n",
    "\n",
    "# Now, we have 19569 rows and 2 columns and we will be training our model on this data"
   ]
  },
  {
   "cell_type": "markdown",
   "metadata": {},
   "source": [
    "## Training the model"
   ]
  },
  {
   "cell_type": "code",
   "execution_count": 14,
   "metadata": {},
   "outputs": [],
   "source": [
    "# Splitting the data into train and test sets with test set 20% of the entire dataset\n",
    "\n",
    "train_x, test_x, train_y, test_y = train_test_split(df.description.fillna(''), df.product_category_tree, test_size = 0.2)"
   ]
  },
  {
   "cell_type": "markdown",
   "metadata": {},
   "source": [
    "CountVectorizer is used to transform a given text into a vector on the basis of the frequency of each word in the text. CountVectorizer returns a matrix in which the columns contain each unique word in the document. The rows contain the text samples. The values in the cells give the frequency of occurence of the word in that text sample. The paramter stop_words of the CountVectorizer class is set to \"english\". This is done so that the model ignores irrelevant and commonly used words in English language that do not contribute to the data processing. "
   ]
  },
  {
   "cell_type": "code",
   "execution_count": 16,
   "metadata": {},
   "outputs": [],
   "source": [
    "# Converting the training data to a vectorized form using CountVectorizer\n",
    "\n",
    "vectorizer = CountVectorizer(stop_words = \"english\")\n",
    "\n",
    "X_train_matrix = vectorizer.fit_transform(train_x)\n",
    "\n",
    "# vocabulary_ attribute of the CountVectorizer object returns a dictionary of the identified unique words and their indices\n",
    "# print(\"Vocabulary: \", vectorizer.vocabulary_)"
   ]
  },
  {
   "cell_type": "code",
   "execution_count": 17,
   "metadata": {},
   "outputs": [
    {
     "name": "stdout",
     "output_type": "stream",
     "text": [
      "0.9501117853720856\n"
     ]
    }
   ],
   "source": [
    "# Fitting and scoring the training data using the Multinomial naive bayes model\n",
    "# The Multinomial Naive bayes classifier is suitable for text classification with discrete features. \n",
    "\n",
    "model = MultinomialNB()\n",
    "\n",
    "model.fit(X_train_matrix, train_y)\n",
    "\n",
    "print(model.score(X_train_matrix, train_y))"
   ]
  },
  {
   "cell_type": "code",
   "execution_count": 18,
   "metadata": {},
   "outputs": [
    {
     "name": "stdout",
     "output_type": "stream",
     "text": [
      "0.9315278487480838\n",
      "              precision    recall  f1-score   support\n",
      "\n",
      "           0       0.94      0.99      0.97       212\n",
      "           1       0.92      0.65      0.76        92\n",
      "           2       0.79      0.61      0.69        49\n",
      "           3       0.86      0.94      0.90       131\n",
      "           4       1.00      0.33      0.50        18\n",
      "           5       0.98      0.99      0.99      1245\n",
      "           6       0.93      0.80      0.86       108\n",
      "           7       1.00      1.00      1.00        10\n",
      "           8       0.97      0.92      0.94       255\n",
      "           9       0.89      0.97      0.93       176\n",
      "          10       0.90      0.98      0.94       193\n",
      "          11       1.00      0.26      0.42        19\n",
      "          12       0.86      1.00      0.92       714\n",
      "          13       0.96      0.92      0.94       128\n",
      "          14       0.98      0.93      0.95       199\n",
      "          15       0.95      0.47      0.63        76\n",
      "          16       1.00      0.40      0.57        40\n",
      "          17       0.95      0.93      0.94        96\n",
      "          18       0.84      0.73      0.78        63\n",
      "          19       0.96      0.98      0.97        90\n",
      "\n",
      "    accuracy                           0.93      3914\n",
      "   macro avg       0.93      0.79      0.83      3914\n",
      "weighted avg       0.93      0.93      0.93      3914\n",
      "\n"
     ]
    }
   ],
   "source": [
    "# scoring the test data\n",
    "\n",
    "X_test_matrix = vectorizer.transform(test_x)\n",
    "\n",
    "\n",
    "print(model.score(X_test_matrix, test_y))\n",
    "\n",
    "predicted_result = model.predict(X_test_matrix)\n",
    "print(classification_report(test_y, predicted_result))\n"
   ]
  },
  {
   "cell_type": "markdown",
   "metadata": {},
   "source": [
    "The following code block tests how the model performs on an input which is slightly different from that in the dataset"
   ]
  },
  {
   "cell_type": "code",
   "execution_count": 23,
   "metadata": {},
   "outputs": [
    {
     "name": "stdout",
     "output_type": "stream",
     "text": [
      "['Footwear']\n",
      "['Clothing']\n",
      "['Furniture']\n",
      "['Jewellery']\n",
      "['KitchenDining']\n",
      "['HomeDecorFestiveNeeds']\n",
      "['SportsFitness']\n"
     ]
    }
   ],
   "source": [
    "print(encoder.inverse_transform(model.predict(vectorizer.transform([\"Women's ethnic sandals. Material: Leather.\"]))))\n",
    "print(encoder.inverse_transform(model.predict(vectorizer.transform([\"Full-sleeve embroidered women's top\"]))))\n",
    "print(encoder.inverse_transform(model.predict(vectorizer.transform([\"Fabric double sofa bed\"]))))\n",
    "print(encoder.inverse_transform(model.predict(vectorizer.transform([\"diamond earring gold plated\"]))))\n",
    "print(encoder.inverse_transform(model.predict(vectorizer.transform([\"Pizza slicer\"]))))\n",
    "print(encoder.inverse_transform(model.predict(vectorizer.transform([\"Peacock With Meena Art Showpiece\"]))))\n",
    "print(encoder.inverse_transform(model.predict(vectorizer.transform([\"Cricket bat\"]))))\n",
    "\n",
    "# Testing the model on different types of inputs\n"
   ]
  },
  {
   "cell_type": "markdown",
   "metadata": {},
   "source": [
    "The model has an overall accuracy of 93% on the test data and 95% on the training data. \n",
    "\n",
    "Some ideas to improve the accuracy of the model:\n",
    "1. Using a more exhaustive list of stop-words in the testing data. \n",
    "2. Performing lemmatization: The process of normalizing different grammatical variations of a word to its root form. \n",
    "\n",
    "In this model, the vectorizer used is CountVectorizer. The same could have been done using TfidfVectorizer as well.\n",
    "\n",
    "Other algorithms that can be implemented: Support Vector Classifier, Decision Tree Classifer. \n"
   ]
  },
  {
   "cell_type": "markdown",
   "metadata": {},
   "source": [
    "References:\n",
    "1. https://www.geeksforgeeks.org/using-countvectorizer-to-extracting-features-from-text/\n",
    "2. https://www.geeksforgeeks.org/removing-stop-words-nltk-python/\n",
    "3. https://docs.w3cub.com/scikit_learn/modules/generated/sklearn.naive_bayes.multinomialnb.html\n",
    "4. https://scikit-learn.org/stable/modules/generated/sklearn.preprocessing.LabelEncoder.html\n"
   ]
  },
  {
   "cell_type": "code",
   "execution_count": null,
   "metadata": {},
   "outputs": [],
   "source": []
  },
  {
   "cell_type": "code",
   "execution_count": null,
   "metadata": {},
   "outputs": [],
   "source": []
  }
 ],
 "metadata": {
  "kernelspec": {
   "display_name": "Python 3",
   "language": "python",
   "name": "python3"
  },
  "language_info": {
   "codemirror_mode": {
    "name": "ipython",
    "version": 3
   },
   "file_extension": ".py",
   "mimetype": "text/x-python",
   "name": "python",
   "nbconvert_exporter": "python",
   "pygments_lexer": "ipython3",
   "version": "3.7.4"
  }
 },
 "nbformat": 4,
 "nbformat_minor": 2
}
